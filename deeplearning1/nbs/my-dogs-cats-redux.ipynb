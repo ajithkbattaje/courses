{
 "cells": [
  {
   "cell_type": "code",
   "execution_count": 1,
   "metadata": {
    "collapsed": false
   },
   "outputs": [
    {
     "name": "stderr",
     "output_type": "stream",
     "text": [
      "/home/ubuntu/anaconda2/lib/python2.7/site-packages/matplotlib/font_manager.py:273: UserWarning: Matplotlib is building the font cache using fc-list. This may take a moment.\n",
      "  warnings.warn('Matplotlib is building the font cache using fc-list. This may take a moment.')\n",
      "Using gpu device 0: Tesla K80 (CNMeM is disabled, cuDNN 5103)\n",
      "/home/ubuntu/anaconda2/lib/python2.7/site-packages/theano/sandbox/cuda/__init__.py:600: UserWarning: Your cuDNN version is more recent than the one Theano officially supports. If you see any problems, try updating Theano or downgrading cuDNN to version 5.\n",
      "  warnings.warn(warn)\n",
      "Using Theano backend.\n"
     ]
    }
   ],
   "source": [
    "from __future__ import print_function\n",
    "\n",
    "import os\n",
    "import sys\n",
    "import utils\n",
    "import glob\n",
    "from vgg16 import Vgg16\n",
    "import numpy as np"
   ]
  },
  {
   "cell_type": "markdown",
   "metadata": {},
   "source": [
    "##### Global constants"
   ]
  },
  {
   "cell_type": "code",
   "execution_count": 16,
   "metadata": {
    "collapsed": true
   },
   "outputs": [],
   "source": [
    "DO_SETUP=0                          # Set to 1 for first time setup of necessary directory structure\n",
    "VALIDATION_SET_SZ=1000\n",
    "SAMPLE_SET_SZ=100\n",
    "\n",
    "ddir=\"/home/ubuntu/nbs/courses/deeplearning1/nbs/data/myredux\"\n",
    "#ddir=\"/home/ubuntu/nbs/courses/deeplearning1/nbs/data/myredux/sample\"\n",
    "\n",
    "resdir=ddir + \"/results/\"\n",
    "testdir=ddir + \"/test/\"\n",
    "traindir=ddir + \"/train/\"\n",
    "validdir=ddir + \"/valid/\""
   ]
  },
  {
   "cell_type": "markdown",
   "metadata": {
    "collapsed": false
   },
   "source": [
    "# Prepare directory structure"
   ]
  },
  {
   "cell_type": "code",
   "execution_count": 3,
   "metadata": {
    "collapsed": false
   },
   "outputs": [
    {
     "name": "stdout",
     "output_type": "stream",
     "text": [
      "DO_SETUP=1\n"
     ]
    }
   ],
   "source": [
    "if (DO_SETUP == 1):\n",
    "    print(\"DO_SETUP=1\")\n",
    "    %mkdir -p $resdir\n",
    "    %mkdir -p $traindir/cats $traindir/dogs\n",
    "    %mkdir -p $ddir/sample $ddir/valid\n",
    "    %mkdir -p $ddir/valid/cats $ddir/valid/dogs\n",
    "    %mkdir -p $ddir/sample/train $ddir/sample/train/cats $ddir/sample/train/dogs $ddir/sample/test $ddir/sample/results \n",
    "    %mkdir -p $ddir/sample/valid $ddir/sample/valid/cats $ddir/sample/valid/dogs\n",
    "    %mkdir -p $ddir/test/unknown $ddir/sample/test/unknown\n",
    "    %mv $testdir/*.jpg $testdir/unknown"
   ]
  },
  {
   "cell_type": "code",
   "execution_count": 5,
   "metadata": {
    "collapsed": false
   },
   "outputs": [],
   "source": [
    "# Move images to appropriate directories\n",
    "\n",
    "\n",
    "-"
   ]
  },
  {
   "cell_type": "markdown",
   "metadata": {
    "collapsed": true
   },
   "source": [
    "### Finetune existing vgg16 model to categorize only 2 classes in data set"
   ]
  },
  {
   "cell_type": "code",
   "execution_count": 17,
   "metadata": {
    "collapsed": false
   },
   "outputs": [
    {
     "name": "stdout",
     "output_type": "stream",
     "text": [
      "Found 23000 images belonging to 2 classes.\n",
      "Found 2000 images belonging to 2 classes.\n"
     ]
    }
   ],
   "source": [
    "batchsz=64\n",
    "\n",
    "vgg = Vgg16()\n",
    "train_batches = vgg.get_batches(traindir, batch_size=batchsz)\n",
    "valid_batches = vgg.get_batches(validdir, batch_size=batchsz)\n",
    "vgg.finetune(train_batches)"
   ]
  },
  {
   "cell_type": "markdown",
   "metadata": {},
   "source": [
    "### Train the finetuned model"
   ]
  },
  {
   "cell_type": "code",
   "execution_count": 18,
   "metadata": {
    "collapsed": false
   },
   "outputs": [
    {
     "name": "stdout",
     "output_type": "stream",
     "text": [
      "Running Epoch 0\n",
      "Epoch 1/1\n",
      "23000/23000 [==============================] - 640s - loss: 0.1112 - acc: 0.9702 - val_loss: 0.0799 - val_acc: 0.9780\n",
      "Running Epoch 1\n",
      "Epoch 1/1\n",
      "23000/23000 [==============================] - 641s - loss: 0.0948 - acc: 0.9770 - val_loss: 0.0837 - val_acc: 0.9815\n",
      "Running Epoch 2\n",
      "Epoch 1/1\n",
      "23000/23000 [==============================] - 640s - loss: 0.0970 - acc: 0.9792 - val_loss: 0.1148 - val_acc: 0.9770\n"
     ]
    }
   ],
   "source": [
    "nb_epoch=3\n",
    "\n",
    "for e in range(nb_epoch):\n",
    "    print(\"Running Epoch %d\" %e)\n",
    "    vgg.fit(train_batches, valid_batches)\n",
    "    wfname=resdir + \"ft%d.h5\" %e\n",
    "    vgg.model.save_weights(wfname) "
   ]
  },
  {
   "cell_type": "markdown",
   "metadata": {},
   "source": [
    "### Test model results against validation data"
   ]
  },
  {
   "cell_type": "code",
   "execution_count": 74,
   "metadata": {
    "collapsed": true
   },
   "outputs": [],
   "source": [
    "best_wfname=resdir + \"ft1.h5\"\n",
    "vgg.model.load_weights(best_wfname)"
   ]
  },
  {
   "cell_type": "code",
   "execution_count": 63,
   "metadata": {
    "collapsed": false
   },
   "outputs": [
    {
     "name": "stdout",
     "output_type": "stream",
     "text": [
      "Found 2000 images belonging to 2 classes.\n"
     ]
    }
   ],
   "source": [
    "valid_batches, valid_preds = vgg.test(validdir, batch_size=batchsz)"
   ]
  },
  {
   "cell_type": "code",
   "execution_count": 64,
   "metadata": {
    "collapsed": true
   },
   "outputs": [],
   "source": [
    "expected_valid_preds = valid_batches.classes\n",
    "got_valid_preds = np.round(1-valid_preds[:,0])"
   ]
  },
  {
   "cell_type": "markdown",
   "metadata": {},
   "source": [
    "#### Get confusion matrix on validation set"
   ]
  },
  {
   "cell_type": "code",
   "execution_count": 65,
   "metadata": {
    "collapsed": false
   },
   "outputs": [
    {
     "data": {
      "text/plain": [
       "array([[986,  14],\n",
       "       [ 28, 972]])"
      ]
     },
     "execution_count": 65,
     "metadata": {},
     "output_type": "execute_result"
    }
   ],
   "source": [
    "from sklearn.metrics import confusion_matrix\n",
    "cm = confusion_matrix(expected_valid_preds, got_valid_preds)\n",
    "cm"
   ]
  },
  {
   "cell_type": "markdown",
   "metadata": {},
   "source": [
    "### Run predictions on test data using finetuned model"
   ]
  },
  {
   "cell_type": "code",
   "execution_count": 75,
   "metadata": {
    "collapsed": false
   },
   "outputs": [
    {
     "name": "stdout",
     "output_type": "stream",
     "text": [
      "Found 12500 images belonging to 1 classes.\n"
     ]
    }
   ],
   "source": [
    "test_batches, test_preds = vgg.test(testdir, batch_size=batchsz)"
   ]
  },
  {
   "cell_type": "code",
   "execution_count": 76,
   "metadata": {
    "collapsed": false
   },
   "outputs": [],
   "source": [
    "# Saving test results\n",
    "utils.save_array(resdir + \"test_fnames.dat\", test_batches.filenames)\n",
    "utils.save_array(resdir + \"test_preds.dat\", test_preds)"
   ]
  },
  {
   "cell_type": "code",
   "execution_count": 77,
   "metadata": {
    "collapsed": true
   },
   "outputs": [],
   "source": [
    "# Retrieve test results\n",
    "fnames=utils.load_array(resdir + \"test_fnames.dat\")\n",
    "preds=utils.load_array(resdir + \"test_preds.dat\")"
   ]
  },
  {
   "cell_type": "code",
   "execution_count": 78,
   "metadata": {
    "collapsed": true
   },
   "outputs": [],
   "source": [
    "isdog=preds[:,1] # column 1 probabilities indicating 'dog' prediction"
   ]
  },
  {
   "cell_type": "markdown",
   "metadata": {},
   "source": [
    "##### Adjustments to look good on log-loss loss computation function which penalizes high probability wrong predictions"
   ]
  },
  {
   "cell_type": "code",
   "execution_count": 83,
   "metadata": {
    "collapsed": true
   },
   "outputs": [],
   "source": [
    "isdog = isdog.clip(min=0.001, max=0.999)"
   ]
  },
  {
   "cell_type": "code",
   "execution_count": 84,
   "metadata": {
    "collapsed": false
   },
   "outputs": [],
   "source": [
    "imgids = np.array([int(f[8:f.find('.')]) for f in fnames])"
   ]
  },
  {
   "cell_type": "code",
   "execution_count": 85,
   "metadata": {
    "collapsed": true
   },
   "outputs": [],
   "source": [
    "subm = np.stack([imgids, isdog], axis=1)"
   ]
  },
  {
   "cell_type": "code",
   "execution_count": 86,
   "metadata": {
    "collapsed": false
   },
   "outputs": [],
   "source": [
    "submission_file_name = ddir + \"/submission_using_ft1_clip0.001.csv\"\n",
    "np.savetxt(submission_file_name, subm, fmt='%d,%.5f', header='id,label', comments='')"
   ]
  },
  {
   "cell_type": "code",
   "execution_count": null,
   "metadata": {
    "collapsed": true
   },
   "outputs": [],
   "source": []
  }
 ],
 "metadata": {
  "anaconda-cloud": {},
  "kernelspec": {
   "display_name": "Python [conda root]",
   "language": "python",
   "name": "conda-root-py"
  },
  "language_info": {
   "codemirror_mode": {
    "name": "ipython",
    "version": 2
   },
   "file_extension": ".py",
   "mimetype": "text/x-python",
   "name": "python",
   "nbconvert_exporter": "python",
   "pygments_lexer": "ipython2",
   "version": "2.7.12"
  }
 },
 "nbformat": 4,
 "nbformat_minor": 1
}
